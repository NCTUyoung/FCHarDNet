{
 "cells": [
  {
   "cell_type": "code",
   "execution_count": 1,
   "metadata": {},
   "outputs": [],
   "source": [
    "import cv2\n",
    "import matplotlib.pyplot as plt\n",
    "import os\n",
    "import numpy as np\n",
    "import imutils\n",
    "import time\n",
    "from bspline_path import  approximate_b_spline_path\n",
    "from cubic_spline_planner import  Spline2D"
   ]
  },
  {
   "cell_type": "code",
   "execution_count": 2,
   "metadata": {},
   "outputs": [],
   "source": [
    "from scipy import ndimage"
   ]
  },
  {
   "cell_type": "code",
   "execution_count": 3,
   "metadata": {},
   "outputs": [],
   "source": [
    "image_dir = '/home/ivslab/DriveImage/pred_main/'"
   ]
  },
  {
   "cell_type": "code",
   "execution_count": 4,
   "metadata": {},
   "outputs": [],
   "source": [
    "base_point = (1024//2 + 20,575)\n",
    "VERTICAL_CROP = 500\n",
    "mask = plt.imread('mask.jpg').copy()\n",
    "mask[mask>0] = 1\n",
    "\n",
    "segment = 5\n",
    "horizon = 350"
   ]
  },
  {
   "cell_type": "code",
   "execution_count": 5,
   "metadata": {},
   "outputs": [],
   "source": [
    "\"\"\"\n",
    "\n",
    "Path planning with Bezier curve.\n",
    "\n",
    "author: Atsushi Sakai(@Atsushi_twi)\n",
    "\n",
    "\"\"\"\n",
    "\n",
    "import matplotlib.pyplot as plt\n",
    "import numpy as np\n",
    "import scipy.special\n",
    "\n",
    "show_animation = True\n",
    "\n",
    "\n",
    "def calc_4points_bezier_path(sx, sy, syaw, ex, ey, eyaw, offset):\n",
    "    \"\"\"\n",
    "    Compute control points and path given start and end position.\n",
    "\n",
    "    :param sx: (float) x-coordinate of the starting point\n",
    "    :param sy: (float) y-coordinate of the starting point\n",
    "    :param syaw: (float) yaw angle at start\n",
    "    :param ex: (float) x-coordinate of the ending point\n",
    "    :param ey: (float) y-coordinate of the ending point\n",
    "    :param eyaw: (float) yaw angle at the end\n",
    "    :param offset: (float)\n",
    "    :return: (numpy array, numpy array)\n",
    "    \"\"\"\n",
    "    dist = np.hypot(sx - ex, sy - ey) / offset\n",
    "    control_points = np.array(\n",
    "        [[sx, sy],\n",
    "         [sx + dist * np.cos(syaw), sy + dist * np.sin(syaw)],\n",
    "         [ex - dist * np.cos(eyaw), ey - dist * np.sin(eyaw)],\n",
    "         [ex, ey]])\n",
    "\n",
    "    path = calc_bezier_path(control_points, n_points=100)\n",
    "\n",
    "    return path, control_points\n",
    "\n",
    "\n",
    "def calc_bezier_path(control_points, n_points=100):\n",
    "    \"\"\"\n",
    "    Compute bezier path (trajectory) given control points.\n",
    "\n",
    "    :param control_points: (numpy array)\n",
    "    :param n_points: (int) number of points in the trajectory\n",
    "    :return: (numpy array)\n",
    "    \"\"\"\n",
    "    traj = []\n",
    "    for t in np.linspace(0, 1, n_points):\n",
    "        traj.append(bezier(t, control_points))\n",
    "\n",
    "    return np.array(traj)\n",
    "\n",
    "\n",
    "def bernstein_poly(n, i, t):\n",
    "    \"\"\"\n",
    "    Bernstein polynom.\n",
    "\n",
    "    :param n: (int) polynom degree\n",
    "    :param i: (int)\n",
    "    :param t: (float)\n",
    "    :return: (float)\n",
    "    \"\"\"\n",
    "    return scipy.special.comb(n, i) * t ** i * (1 - t) ** (n - i)\n",
    "\n",
    "\n",
    "def bezier(t, control_points):\n",
    "    \"\"\"\n",
    "    Return one point on the bezier curve.\n",
    "\n",
    "    :param t: (float) number in [0, 1]\n",
    "    :param control_points: (numpy array)\n",
    "    :return: (numpy array) Coordinates of the point\n",
    "    \"\"\"\n",
    "    n = len(control_points) - 1\n",
    "    return np.sum([bernstein_poly(n, i, t) * control_points[i] for i in range(n + 1)], axis=0)\n",
    "\n",
    "\n",
    "def bezier_derivatives_control_points(control_points, n_derivatives):\n",
    "    \"\"\"\n",
    "    Compute control points of the successive derivatives of a given bezier curve.\n",
    "\n",
    "    A derivative of a bezier curve is a bezier curve.\n",
    "    See https://pomax.github.io/bezierinfo/#derivatives\n",
    "    for detailed explanations\n",
    "\n",
    "    :param control_points: (numpy array)\n",
    "    :param n_derivatives: (int)\n",
    "    e.g., n_derivatives=2 -> compute control points for first and second derivatives\n",
    "    :return: ([numpy array])\n",
    "    \"\"\"\n",
    "    w = {0: control_points}\n",
    "    for i in range(n_derivatives):\n",
    "        n = len(w[i])\n",
    "        w[i + 1] = np.array([(n - 1) * (w[i][j + 1] - w[i][j])\n",
    "                             for j in range(n - 1)])\n",
    "    return w\n",
    "\n",
    "\n",
    "def curvature(dx, dy, ddx, ddy):\n",
    "    \"\"\"\n",
    "    Compute curvature at one point given first and second derivatives.\n",
    "\n",
    "    :param dx: (float) First derivative along x axis\n",
    "    :param dy: (float)\n",
    "    :param ddx: (float) Second derivative along x axis\n",
    "    :param ddy: (float)\n",
    "    :return: (float)\n",
    "    \"\"\"\n",
    "    return (dx * ddy - dy * ddx) / (dx ** 2 + dy ** 2) ** (3 / 2)\n",
    "\n",
    "\n",
    "def plot_arrow(x, y, yaw, length=1.0, width=0.5, fc=\"r\", ec=\"k\"):  # pragma: no cover\n",
    "    \"\"\"Plot arrow.\"\"\"\n",
    "    if not isinstance(x, float):\n",
    "        for (ix, iy, iyaw) in zip(x, y, yaw):\n",
    "            plot_arrow(ix, iy, iyaw)\n",
    "    else:\n",
    "        plt.arrow(x, y, length * np.cos(yaw), length * np.sin(yaw),\n",
    "                  fc=fc, ec=ec, head_width=width, head_length=width)\n",
    "        plt.plot(x, y)"
   ]
  },
  {
   "cell_type": "code",
   "execution_count": 21,
   "metadata": {},
   "outputs": [
    {
     "data": {
      "text/plain": [
       "<matplotlib.image.AxesImage at 0x7f399b566f10>"
      ]
     },
     "execution_count": 21,
     "metadata": {},
     "output_type": "execute_result"
    },
    {
     "data": {
      "image/png": "[encoded data removed]",
      "text/plain": [
       "<Figure size 432x288 with 1 Axes>"
      ]
     },
     "metadata": {
      "needs_background": "light"
     },
     "output_type": "display_data"
    }
   ],
   "source": [
    "pred = cv2.imread(os.path.join(image_dir,'4.jpg'))\n",
    "\n",
    "plt.imshow(img2[...,::-1])"
   ]
  },
  {
   "cell_type": "code",
   "execution_count": 9,
   "metadata": {},
   "outputs": [
    {
     "data": {
      "text/plain": [
       "204.0"
      ]
     },
     "execution_count": 9,
     "metadata": {},
     "output_type": "execute_result"
    }
   ],
   "source": []
  },
  {
   "cell_type": "code",
   "execution_count": null,
   "metadata": {
    "scrolled": false
   },
   "outputs": [],
   "source": [
    "show_segment = False\n",
    "b_spline_degree = 4\n",
    "\n",
    "for i in range(1,150):\n",
    "    \n",
    "    start = time.time()\n",
    "    plt.figure(figsize = (10,8))\n",
    "    pred = cv2.imread(os.path.join(image_dir,'{}.jpg'.format(i)))\n",
    "    pred = np.power(pred/float(np.max(pred)), 2)\n",
    "    pred_max = pred[:,:,1]>=255*0.8\n",
    "    pred_max  = pred_max* 255\n",
    "    pred_max = pred_max.astype(np.uint8)\n",
    "    \n",
    "    \n",
    "    \n",
    "    \n",
    "    \n",
    "    # ---------------All -----------------\n",
    "    pred_max_all = pred_max.copy()\n",
    "    \n",
    "    \n",
    "    \n",
    "    cnts = cv2.findContours(pred_max_all.copy(), cv2.RETR_EXTERNAL,cv2.CHAIN_APPROX_SIMPLE)\n",
    "    cnts = imutils.grab_contours(cnts)\n",
    "    c = max(cnts, key=cv2.contourArea)\n",
    "    \n",
    "\n",
    "    extTop_all= np.array(c[c[:, :, 1].argmin()][0])\n",
    "    \n",
    "    \n",
    "\n",
    "    \n",
    "    cc = c[:,0]\n",
    "    y_max = cc[:,1].max()\n",
    "    y_min = cc[:,1].min()\n",
    "    delta_y = (y_max - y_min) // segment\n",
    "    delta = 10\n",
    "    y_mid_down = y_min + delta_y\n",
    "    y_mid_upper = y_max - delta_y\n",
    "    \n",
    "#     f,ax = plt.subplots(1,segment,figsize=(16,16))\n",
    "    center_mass_list = []\n",
    "    for j in range(segment):\n",
    "        pred_max_segment = pred_max.copy()\n",
    "        pred_max_segment[:y_min+j*delta_y,:]=0\n",
    "        pred_max_segment[y_min+(j+1)*delta_y:,:]=0\n",
    "        \n",
    "        center_mass = np.array(ndimage.measurements.center_of_mass(pred_max_segment))\n",
    "        center_mass_list.append(np.array([center_mass[1],center_mass[0]]))\n",
    "#         ax[j].imshow(pred_max_segment)\n",
    "    \n",
    "    \n",
    "    \n",
    "    \n",
    "    # ---------------Buttom -----------------\n",
    "    pred_max_bottom = pred_max.copy() * mask\n",
    "    pred_max_bottom[:VERTICAL_CROP] = 0\n",
    "    cnts = cv2.findContours(pred_max_bottom.copy(), cv2.RETR_EXTERNAL,cv2.CHAIN_APPROX_SIMPLE)\n",
    "    cnts = imutils.grab_contours(cnts)\n",
    "    c = max(cnts, key=cv2.contourArea)\n",
    "    \n",
    "    \n",
    "    # determine the most extreme points along the contour\n",
    "    extLeft_bottom = np.array(c[c[:, :, 0].argmin()][0])\n",
    "    extRight_bottom = np.array(c[c[:, :, 0].argmax()][0])\n",
    "    extMiddle_bottom = (extLeft_bottom + extRight_bottom) / 2\n",
    "    \n",
    "    \n",
    "    \n",
    "    \n",
    "    \n",
    "    \n",
    "    cnts = cv2.findContours(pred_max.copy(), cv2.RETR_EXTERNAL,cv2.CHAIN_APPROX_SIMPLE)\n",
    "    cnts = imutils.grab_contours(cnts)\n",
    "    c = max(cnts, key=cv2.contourArea)\n",
    "    \n",
    "    \n",
    "    cv2.drawContours(pred_max, [c], -1, 100, 10)\n",
    "    \n",
    "    cv2.circle(pred_max, tuple(extLeft_bottom), 10, 50, 2)\n",
    "    cv2.circle(pred_max, tuple(extRight_bottom), 10, 50, 2)\n",
    "    \n",
    "    \n",
    "    for cm in center_mass_list:\n",
    "        cv2.circle(pred_max, tuple(cm.astype(int)), 15, 80, 2)\n",
    "    \n",
    "    \n",
    "    \n",
    "    \n",
    "    \n",
    "    \"\"\"Plot an example bezier curve.\"\"\"\n",
    "    start_x = float(extMiddle_bottom[0])  # [m]\n",
    "    start_y = float(extMiddle_bottom[1])  # [m]\n",
    "    \n",
    "    diff = (center_mass_list[-1][0]-start_x,center_mass_list[-1][1]-start_y)\n",
    "    angle = np.angle([diff[0]+diff[1]*1j])[0]\n",
    "    start_yaw = angle  # [rad]\n",
    "\n",
    "    \n",
    "    \n",
    "    end_x = float(extTop_all[0])  # [m]\n",
    "    end_y = extTop_all[1]  # [m]\n",
    "    \n",
    "    diff = (end_x - center_mass_list[0][0],end_y - center_mass_list[0][1])\n",
    "    angle_ = np.angle([diff[0]+diff[1]*1j])[0]\n",
    "    end_yaw = angle_  # [rad]\n",
    "    offset = 3.0\n",
    "\n",
    "    \n",
    "\n",
    "    \n",
    "    \n",
    "    \n",
    "    path, control_points = calc_4points_bezier_path(\n",
    "        start_x, start_y, start_yaw, end_x, end_y, end_yaw, offset)\n",
    "    \n",
    "    \n",
    "    \n",
    "    cv2.line(pred_max, (base_point[0], 0), base_point,255,2)\n",
    "    cv2.line(pred_max,(0,horizon),(1023,horizon),200,3)\n",
    "    \n",
    "    # ----------------------bezier line -----------------------------\n",
    "    n_course_point = 100  # sampling number\n",
    "    waypoint_x = list(np.array(center_mass_list)[:,0])\n",
    "    waypoint_y = list(np.array(center_mass_list)[:,1])\n",
    "    \n",
    "    f,ax = plt.subplots(1,3,figsize=(16,16))\n",
    "    for k in range(3):\n",
    "        rax, ray = approximate_b_spline_path(waypoint_x, waypoint_y,n_course_point,degree=k+2)\n",
    "   \n",
    "\n",
    "        # ----------------------plt Image -----------------------------\n",
    "        ax[k].imshow(pred_max,cmap=plt.cm.Accent_r)\n",
    "\n",
    "\n",
    "\n",
    "\n",
    "        # bs line\n",
    "        ax[k].set_title('b_spline {}degree'.format(k+2))\n",
    "        ax[k].imshow(pred_max,cmap=plt.cm.Accent_r)\n",
    "        ax[k].plot(waypoint_x, waypoint_y, '-og', label=\"way points\")\n",
    "        ax[k].plot(rax, ray, '-r', label=\"Approximated B-Spline path\")\n",
    "    \n",
    "    \n",
    "\n",
    "    \n",
    "    \n",
    "    \n",
    "    \n",
    "    \n",
    "    \n",
    "    \n",
    "    # ----------------------Cubic Apline -----------------------------\n",
    "#     ds = 0.1  # [m] distance of each intepolated points\n",
    "\n",
    "#     sp = Spline2D(waypoint_x, waypoint_y)\n",
    "#     s = np.arange(0, sp.s[-1], ds)\n",
    "\n",
    "#     rx, ry, ryaw, rk = [], [], [], []\n",
    "#     for i_s in s:\n",
    "#         ix, iy = sp.calc_position(i_s)\n",
    "#         rx.append(ix)\n",
    "#         ry.append(iy)\n",
    "#         ryaw.append(sp.calc_yaw(i_s))\n",
    "#         rk.append(sp.calc_curvature(i_s))\n",
    "        \n",
    "        \n",
    "    \n",
    "    \n",
    "    \n",
    "#     # ----------------------plt Image -----------------------------\n",
    "#     f,ax = plt.subplots(1,3,figsize=(16,16))\n",
    "#     ax[0].imshow(pred_max,cmap=plt.cm.Accent_r)\n",
    "    \n",
    "    \n",
    "#     # bezier line\n",
    "#     ax[0].set_title('bezier')\n",
    "#     ax[0].plot(path.T[0], path.T[1],'-r', label=\"Bezier Path\")\n",
    "#     ax[0].plot(control_points.T[0], control_points.T[1],\n",
    "#             '-og', label=\"Control Points\")\n",
    "    \n",
    "#     # bs line\n",
    "#     ax[1].set_title('b_spline')\n",
    "#     ax[1].imshow(pred_max,cmap=plt.cm.Accent_r)\n",
    "#     ax[1].plot(waypoint_x, waypoint_y, '-og', label=\"way points\")\n",
    "#     ax[1].plot(rax, ray, '-r', label=\"Approximated B-Spline path\")\n",
    "    \n",
    "    \n",
    "#     ax[2].imshow(pred_max,cmap=plt.cm.Accent_r)\n",
    "#     ax[2].set_title('cubic_spline')\n",
    "#     ax[2].plot(waypoint_x, waypoint_y, \"xb\", label=\"input\")\n",
    "#     ax[2].plot(rx, ry, \"-r\", label=\"spline\")\n",
    "\n",
    "    \n",
    "    plt.show()"
   ]
  },
  {
   "cell_type": "code",
   "execution_count": null,
   "metadata": {},
   "outputs": [],
   "source": [
    "pred_max"
   ]
  },
  {
   "cell_type": "code",
   "execution_count": null,
   "metadata": {},
   "outputs": [],
   "source": [
    "plt.imshow(pred_max_segment)"
   ]
  },
  {
   "cell_type": "code",
   "execution_count": null,
   "metadata": {},
   "outputs": [],
   "source": [
    "list(np.array(center_mass_list)[:,0])"
   ]
  },
  {
   "cell_type": "code",
   "execution_count": null,
   "metadata": {},
   "outputs": [],
   "source": [
    "center_mass"
   ]
  },
  {
   "cell_type": "code",
   "execution_count": null,
   "metadata": {},
   "outputs": [],
   "source": [
    "start_x"
   ]
  },
  {
   "cell_type": "code",
   "execution_count": null,
   "metadata": {},
   "outputs": [],
   "source": [
    "np.where(np.logical_and(cc[:,1]>y_mid_down-delta , cc[:,1]<y_mid_down + delta))"
   ]
  },
  {
   "cell_type": "code",
   "execution_count": null,
   "metadata": {},
   "outputs": [],
   "source": [
    "cc"
   ]
  },
  {
   "cell_type": "code",
   "execution_count": null,
   "metadata": {},
   "outputs": [],
   "source": [
    "cc[0,:]>0"
   ]
  },
  {
   "cell_type": "code",
   "execution_count": null,
   "metadata": {},
   "outputs": [],
   "source": [
    "cc[:,:]\n"
   ]
  },
  {
   "cell_type": "code",
   "execution_count": null,
   "metadata": {},
   "outputs": [],
   "source": [
    "pred_max.dtype"
   ]
  },
  {
   "cell_type": "code",
   "execution_count": null,
   "metadata": {},
   "outputs": [],
   "source": [
    "\n",
    "plt.imshow(mask)"
   ]
  },
  {
   "cell_type": "code",
   "execution_count": null,
   "metadata": {},
   "outputs": [],
   "source": [
    "mask[mask>254] = 255\n",
    "plt.imshow(mask)"
   ]
  },
  {
   "cell_type": "code",
   "execution_count": null,
   "metadata": {},
   "outputs": [],
   "source": [
    "cv2.imwrite('mask.jpg',mask)"
   ]
  },
  {
   "cell_type": "code",
   "execution_count": null,
   "metadata": {},
   "outputs": [],
   "source": []
  }
 ],
 "metadata": {
  "kernelspec": {
   "display_name": "Python 2",
   "language": "python",
   "name": "python2"
  },
  "language_info": {
   "codemirror_mode": {
    "name": "ipython",
    "version": 2
   },
   "file_extension": ".py",
   "mimetype": "text/x-python",
   "name": "python",
   "nbconvert_exporter": "python",
   "pygments_lexer": "ipython2",
   "version": "2.7.12"
  }
 },
 "nbformat": 4,
 "nbformat_minor": 2
}
